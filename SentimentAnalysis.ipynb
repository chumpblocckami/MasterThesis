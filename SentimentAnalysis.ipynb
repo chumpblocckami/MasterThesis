{
  "nbformat": 4,
  "nbformat_minor": 0,
  "metadata": {
    "colab": {
      "name": "SentimentAnalysis.ipynb",
      "provenance": [],
      "collapsed_sections": [],
      "authorship_tag": "ABX9TyO02WpZO8N9Ph5DC4DQe6KX",
      "include_colab_link": true
    },
    "kernelspec": {
      "name": "python3",
      "display_name": "Python 3"
    },
    "accelerator": "GPU"
  },
  "cells": [
    {
      "cell_type": "markdown",
      "metadata": {
        "id": "view-in-github",
        "colab_type": "text"
      },
      "source": [
        "<a href=\"https://colab.research.google.com/github/chumpblocckami/MasterThesis/blob/master/SentimentAnalysis.ipynb\" target=\"_parent\"><img src=\"https://colab.research.google.com/assets/colab-badge.svg\" alt=\"Open In Colab\"/></a>"
      ]
    },
    {
      "cell_type": "code",
      "metadata": {
        "id": "chTclEeHhxxi",
        "colab_type": "code",
        "colab": {
          "base_uri": "https://localhost:8080/",
          "height": 50
        },
        "outputId": "0ceb7e69-5ddc-4e9d-a074-3d5dfd2c1ef4"
      },
      "source": [
        "from vaderSentiment.vaderSentiment import SentimentIntensityAnalyzer\n",
        "from nltk import sent_tokenize\n",
        "import nltk\n",
        "nltk.download('punkt')\n",
        "import requests\n",
        "import json"
      ],
      "execution_count": 1,
      "outputs": [
        {
          "output_type": "stream",
          "text": [
            "[nltk_data] Downloading package punkt to /root/nltk_data...\n",
            "[nltk_data]   Package punkt is already up-to-date!\n"
          ],
          "name": "stdout"
        }
      ]
    },
    {
      "cell_type": "code",
      "metadata": {
        "id": "Fid1jwdDj8R6",
        "colab_type": "code",
        "colab": {
          "base_uri": "https://localhost:8080/",
          "height": 33
        },
        "outputId": "b5bb811a-2008-4e70-f3a2-4fa678c34fc4"
      },
      "source": [
        "class MySentimentAnalyzer():\n",
        "  def getPolarity(self,input_text,language,label_encoded=False, analyzer = SentimentIntensityAnalyzer(),verbose=False,*args, **kwargs):\n",
        "\n",
        "    '''\n",
        "      Returns the average polarity of a sentence. \\n\n",
        "      input_text: input string for performing sentiment analysis \\n\n",
        "      label_encoded: outputs class of text [positive,negative,neutral] \\n\n",
        "      analyzer: choose analyzer. Used VADER\n",
        "      verbose: verbose\n",
        "    '''\n",
        "\n",
        "    if language != 'en':\n",
        "      from_lang  = \"en\"\n",
        "      api_url = \"http://mymemory.translated.net/api/get?q={}&langpair={}|{}\".format(input_text, language, from_lang)\n",
        "      hdrs = {      'User-Agent': 'Mozilla/5.0 (X11; Linux x86_64) AppleWebKit/537.11 (KHTML, like Gecko) Chrome/23.0.1271.64 Safari/537.11',\n",
        "                    'Accept': 'text/html,application/xhtml+xml,application/xml;q=0.9,*/*;q=0.8',\n",
        "                    'Accept-Charset': 'ISO-8859-1,utf-8;q=0.7,*;q=0.3',\n",
        "                    'Accept-Encoding': 'none',\n",
        "                    'Accept-Language': 'en-US,en;q=0.8',\n",
        "                    'Connection': 'keep-alive'}\n",
        "      response = requests.get(api_url, headers=hdrs)\n",
        "      response_json = json.loads(response.text)\n",
        "      text = response_json[\"responseData\"][\"translatedText\"]\n",
        "\n",
        "    else:\n",
        "      text = input_text\n",
        "\n",
        "    sents = sent_tokenize(text)\n",
        "    polarity = 0\n",
        "    for sent in sents:\n",
        "      score =  analyzer.polarity_scores(sent)[\"compound\"]\n",
        "      polarity += score\n",
        "      if verbose: print((sent,score))\n",
        "\n",
        "    normalized_polarity = polarity/len(sents)\n",
        "    if label_encoded:\n",
        "      if normalized_polarity >= 0.05:\n",
        "        return 'positive'\n",
        "      elif normalized_polarity <= -0.05:\n",
        "        return 'negative'\n",
        "      else:\n",
        "        return 'neutral'\n",
        "    else:\n",
        "      return normalized_polarity\n",
        "\n",
        "nlp = MySentimentAnalyzer()\n",
        "nlp.getPolarity(\"I love NLP!\",language=\"it\")"
      ],
      "execution_count": 26,
      "outputs": [
        {
          "output_type": "execute_result",
          "data": {
            "text/plain": [
              "0.6696"
            ]
          },
          "metadata": {
            "tags": []
          },
          "execution_count": 26
        }
      ]
    }
  ]
}